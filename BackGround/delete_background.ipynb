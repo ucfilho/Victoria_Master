{
  "nbformat": 4,
  "nbformat_minor": 0,
  "metadata": {
    "colab": {
      "name": "delete_background.ipynb",
      "provenance": [],
      "authorship_tag": "ABX9TyNjbS4QvQQI8RnBshFQ++zg",
      "include_colab_link": true
    },
    "kernelspec": {
      "name": "python3",
      "display_name": "Python 3"
    },
    "language_info": {
      "name": "python"
    }
  },
  "cells": [
    {
      "cell_type": "markdown",
      "metadata": {
        "id": "view-in-github",
        "colab_type": "text"
      },
      "source": [
        "<a href=\"https://colab.research.google.com/github/ucfilho/Victoria_Master/blob/main/BackGround/delete_background.ipynb\" target=\"_parent\"><img src=\"https://colab.research.google.com/assets/colab-badge.svg\" alt=\"Open In Colab\"/></a>"
      ]
    },
    {
      "cell_type": "code",
      "metadata": {
        "id": "bzD5ZzTLmSWc"
      },
      "source": [
        "from matplotlib import pyplot as plt\n",
        "from PIL import Image\n",
        "import numpy as np\n",
        "import pandas as pd\n",
        "import os \n",
        "import cv2"
      ],
      "execution_count": 1,
      "outputs": []
    },
    {
      "cell_type": "code",
      "metadata": {
        "colab": {
          "base_uri": "https://localhost:8080/"
        },
        "id": "M9wp1p4vmk92",
        "outputId": "8270ed80-eb21-4061-a2ea-b8378c61d75a"
      },
      "source": [
        "!git clone https://github.com/ucfilho/Victoria_Master\n",
        "%cd Victoria_Master"
      ],
      "execution_count": 2,
      "outputs": [
        {
          "output_type": "stream",
          "text": [
            "Cloning into 'Victoria_Master'...\n",
            "remote: Enumerating objects: 14, done.\u001b[K\n",
            "remote: Counting objects: 100% (14/14), done.\u001b[K\n",
            "remote: Compressing objects: 100% (11/11), done.\u001b[K\n",
            "remote: Total 14 (delta 2), reused 0 (delta 0), pack-reused 0\u001b[K\n",
            "Unpacking objects: 100% (14/14), done.\n",
            "/content/Victoria_Master\n"
          ],
          "name": "stdout"
        }
      ]
    },
    {
      "cell_type": "code",
      "metadata": {
        "colab": {
          "base_uri": "https://localhost:8080/",
          "height": 281
        },
        "id": "UfPpHAI-mvPh",
        "outputId": "6ab541be-4b6b-4993-c696-3d570a701e22"
      },
      "source": [
        "img=cv2.imread('1a.png',0)\n",
        "img=cv2.cvtColor(img, cv2.COLOR_BGR2RGB)\n",
        "plt.axis(\"off\")\n",
        "plt.imshow(img)\n",
        "plt.title('test')"
      ],
      "execution_count": 10,
      "outputs": [
        {
          "output_type": "execute_result",
          "data": {
            "text/plain": [
              "Text(0.5, 1.0, 'test')"
            ]
          },
          "metadata": {
            "tags": []
          },
          "execution_count": 10
        },
        {
          "output_type": "display_data",
          "data": {
            "image/png": "[encoded data removed]",
            "text/plain": [
              "<Figure size 432x288 with 1 Axes>"
            ]
          },
          "metadata": {
            "tags": [],
            "needs_background": "light"
          }
        }
      ]
    },
    {
      "cell_type": "code",
      "metadata": {
        "colab": {
          "base_uri": "https://localhost:8080/"
        },
        "id": "HMJX6jRrpXFD",
        "outputId": "82033f0f-3252-4311-b24d-130443dbd36d"
      },
      "source": [
        "img"
      ],
      "execution_count": 11,
      "outputs": [
        {
          "output_type": "execute_result",
          "data": {
            "text/plain": [
              "array([[[186, 186, 186],\n",
              "        [185, 185, 185],\n",
              "        [185, 185, 185],\n",
              "        ...,\n",
              "        [179, 179, 179],\n",
              "        [180, 180, 180],\n",
              "        [180, 180, 180]],\n",
              "\n",
              "       [[186, 186, 186],\n",
              "        [185, 185, 185],\n",
              "        [185, 185, 185],\n",
              "        ...,\n",
              "        [179, 179, 179],\n",
              "        [179, 179, 179],\n",
              "        [179, 179, 179]],\n",
              "\n",
              "       [[186, 186, 186],\n",
              "        [185, 185, 185],\n",
              "        [185, 185, 185],\n",
              "        ...,\n",
              "        [178, 178, 178],\n",
              "        [178, 178, 178],\n",
              "        [177, 177, 177]],\n",
              "\n",
              "       ...,\n",
              "\n",
              "       [[170, 170, 170],\n",
              "        [170, 170, 170],\n",
              "        [170, 170, 170],\n",
              "        ...,\n",
              "        [176, 176, 176],\n",
              "        [175, 175, 175],\n",
              "        [175, 175, 175]],\n",
              "\n",
              "       [[170, 170, 170],\n",
              "        [170, 170, 170],\n",
              "        [170, 170, 170],\n",
              "        ...,\n",
              "        [177, 177, 177],\n",
              "        [177, 177, 177],\n",
              "        [176, 176, 176]],\n",
              "\n",
              "       [[170, 170, 170],\n",
              "        [170, 170, 170],\n",
              "        [170, 170, 170],\n",
              "        ...,\n",
              "        [178, 178, 178],\n",
              "        [178, 178, 178],\n",
              "        [178, 178, 178]]], dtype=uint8)"
            ]
          },
          "metadata": {
            "tags": []
          },
          "execution_count": 11
        }
      ]
    },
    {
      "cell_type": "code",
      "metadata": {
        "id": "5BkpTSbnnMH9"
      },
      "source": [
        ""
      ],
      "execution_count": null,
      "outputs": []
    }
  ]
}