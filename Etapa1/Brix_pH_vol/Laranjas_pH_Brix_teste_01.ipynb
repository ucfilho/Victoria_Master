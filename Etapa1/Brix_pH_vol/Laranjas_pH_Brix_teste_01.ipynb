{
  "nbformat": 4,
  "nbformat_minor": 0,
  "metadata": {
    "colab": {
      "name": "Untitled129.ipynb",
      "provenance": [],
      "authorship_tag": "ABX9TyM7UIp/BTU9uP7sfJNqCCNL",
      "include_colab_link": true
    },
    "kernelspec": {
      "name": "python3",
      "display_name": "Python 3"
    },
    "language_info": {
      "name": "python"
    }
  },
  "cells": [
    {
      "cell_type": "markdown",
      "metadata": {
        "id": "view-in-github",
        "colab_type": "text"
      },
      "source": [
        "<a href=\"https://colab.research.google.com/github/ucfilho/Victoria_Master/blob/main/Etapa1/Brix_pH_vol/Laranjas_pH_Brix_teste_01.ipynb\" target=\"_parent\"><img src=\"https://colab.research.google.com/assets/colab-badge.svg\" alt=\"Open In Colab\"/></a>"
      ]
    },
    {
      "cell_type": "code",
      "metadata": {
        "id": "bpmxqNZGxCHN"
      },
      "source": [
        "import numpy as np\n",
        "import pandas as pd\n",
        "from google.colab import files"
      ],
      "execution_count": 1,
      "outputs": []
    },
    {
      "cell_type": "code",
      "metadata": {
        "colab": {
          "base_uri": "https://localhost:8080/"
        },
        "id": "B2ENkji6xKIf",
        "outputId": "0432bcc7-e2cd-486a-ca55-8d796c5f4d72"
      },
      "source": [
        "!git clone https://github.com/ucfilho/Victoria_Master\n",
        "%cd Victoria_Master"
      ],
      "execution_count": 2,
      "outputs": [
        {
          "output_type": "stream",
          "text": [
            "fatal: destination path 'Victoria_Master' already exists and is not an empty directory.\n",
            "/content/Victoria_Master\n"
          ],
          "name": "stdout"
        }
      ]
    },
    {
      "cell_type": "code",
      "metadata": {
        "id": "Im-_gzDcxweK"
      },
      "source": [
        "# leitura dos dados\n",
        "df =pd.read_excel(\"Dados laranjas.xlsx\")"
      ],
      "execution_count": 3,
      "outputs": []
    },
    {
      "cell_type": "code",
      "metadata": {
        "colab": {
          "base_uri": "https://localhost:8080/"
        },
        "id": "iECc_xGzyFzy",
        "outputId": "ea3608d8-db58-4987-b335-23874231fa63"
      },
      "source": [
        "!ls"
      ],
      "execution_count": 4,
      "outputs": [
        {
          "output_type": "stream",
          "text": [
            "'Dados laranjas.xlsx'   README.md\n"
          ],
          "name": "stdout"
        }
      ]
    },
    {
      "cell_type": "code",
      "metadata": {
        "colab": {
          "base_uri": "https://localhost:8080/",
          "height": 332
        },
        "id": "cTKwFcMMx-R2",
        "outputId": "6a123353-b43b-438b-afe1-4694b68101dd"
      },
      "source": [
        "df.describe() # summary"
      ],
      "execution_count": 5,
      "outputs": [
        {
          "output_type": "execute_result",
          "data": {
            "text/html": [
              "<div>\n",
              "<style scoped>\n",
              "    .dataframe tbody tr th:only-of-type {\n",
              "        vertical-align: middle;\n",
              "    }\n",
              "\n",
              "    .dataframe tbody tr th {\n",
              "        vertical-align: top;\n",
              "    }\n",
              "\n",
              "    .dataframe thead th {\n",
              "        text-align: right;\n",
              "    }\n",
              "</style>\n",
              "<table border=\"1\" class=\"dataframe\">\n",
              "  <thead>\n",
              "    <tr style=\"text-align: right;\">\n",
              "      <th></th>\n",
              "      <th>Tipo</th>\n",
              "      <th>Laranja</th>\n",
              "      <th>Massa (g)</th>\n",
              "      <th>Volume de suco (mL)</th>\n",
              "      <th>Ph do suco</th>\n",
              "      <th>Temperatura suco °C</th>\n",
              "      <th>Brix suco</th>\n",
              "      <th>comprimento (cm)</th>\n",
              "      <th>largura (cm)</th>\n",
              "      <th>Furo</th>\n",
              "      <th>Temperatura ambiente °C</th>\n",
              "      <th>Unnamed: 11</th>\n",
              "    </tr>\n",
              "  </thead>\n",
              "  <tbody>\n",
              "    <tr>\n",
              "      <th>count</th>\n",
              "      <td>80.0</td>\n",
              "      <td>80.0000</td>\n",
              "      <td>60.000000</td>\n",
              "      <td>60.000000</td>\n",
              "      <td>60.000000</td>\n",
              "      <td>60.000000</td>\n",
              "      <td>60.000000</td>\n",
              "      <td>60.00000</td>\n",
              "      <td>60.000000</td>\n",
              "      <td>60.00000</td>\n",
              "      <td>60.000000</td>\n",
              "      <td>0.0</td>\n",
              "    </tr>\n",
              "    <tr>\n",
              "      <th>mean</th>\n",
              "      <td>1.0</td>\n",
              "      <td>40.5000</td>\n",
              "      <td>148.216667</td>\n",
              "      <td>83.098333</td>\n",
              "      <td>4.054667</td>\n",
              "      <td>21.233333</td>\n",
              "      <td>9.605000</td>\n",
              "      <td>6.51150</td>\n",
              "      <td>6.449333</td>\n",
              "      <td>3.70000</td>\n",
              "      <td>21.533333</td>\n",
              "      <td>NaN</td>\n",
              "    </tr>\n",
              "    <tr>\n",
              "      <th>std</th>\n",
              "      <td>0.0</td>\n",
              "      <td>23.2379</td>\n",
              "      <td>27.435034</td>\n",
              "      <td>21.018487</td>\n",
              "      <td>0.185605</td>\n",
              "      <td>1.468155</td>\n",
              "      <td>0.934721</td>\n",
              "      <td>0.49169</td>\n",
              "      <td>0.439263</td>\n",
              "      <td>0.97945</td>\n",
              "      <td>1.371213</td>\n",
              "      <td>NaN</td>\n",
              "    </tr>\n",
              "    <tr>\n",
              "      <th>min</th>\n",
              "      <td>1.0</td>\n",
              "      <td>1.0000</td>\n",
              "      <td>94.000000</td>\n",
              "      <td>37.000000</td>\n",
              "      <td>3.640000</td>\n",
              "      <td>19.000000</td>\n",
              "      <td>7.000000</td>\n",
              "      <td>5.48000</td>\n",
              "      <td>5.560000</td>\n",
              "      <td>2.00000</td>\n",
              "      <td>19.000000</td>\n",
              "      <td>NaN</td>\n",
              "    </tr>\n",
              "    <tr>\n",
              "      <th>25%</th>\n",
              "      <td>1.0</td>\n",
              "      <td>20.7500</td>\n",
              "      <td>128.500000</td>\n",
              "      <td>66.000000</td>\n",
              "      <td>3.932500</td>\n",
              "      <td>19.800000</td>\n",
              "      <td>9.000000</td>\n",
              "      <td>6.20750</td>\n",
              "      <td>6.105000</td>\n",
              "      <td>3.00000</td>\n",
              "      <td>21.000000</td>\n",
              "      <td>NaN</td>\n",
              "    </tr>\n",
              "    <tr>\n",
              "      <th>50%</th>\n",
              "      <td>1.0</td>\n",
              "      <td>40.5000</td>\n",
              "      <td>152.500000</td>\n",
              "      <td>86.000000</td>\n",
              "      <td>4.040000</td>\n",
              "      <td>21.100000</td>\n",
              "      <td>9.400000</td>\n",
              "      <td>6.51500</td>\n",
              "      <td>6.520000</td>\n",
              "      <td>4.00000</td>\n",
              "      <td>21.000000</td>\n",
              "      <td>NaN</td>\n",
              "    </tr>\n",
              "    <tr>\n",
              "      <th>75%</th>\n",
              "      <td>1.0</td>\n",
              "      <td>60.2500</td>\n",
              "      <td>167.250000</td>\n",
              "      <td>96.250000</td>\n",
              "      <td>4.192500</td>\n",
              "      <td>22.725000</td>\n",
              "      <td>10.100000</td>\n",
              "      <td>6.89000</td>\n",
              "      <td>6.792500</td>\n",
              "      <td>4.00000</td>\n",
              "      <td>23.000000</td>\n",
              "      <td>NaN</td>\n",
              "    </tr>\n",
              "    <tr>\n",
              "      <th>max</th>\n",
              "      <td>1.0</td>\n",
              "      <td>80.0000</td>\n",
              "      <td>195.000000</td>\n",
              "      <td>130.000000</td>\n",
              "      <td>4.600000</td>\n",
              "      <td>23.300000</td>\n",
              "      <td>12.400000</td>\n",
              "      <td>7.57000</td>\n",
              "      <td>7.120000</td>\n",
              "      <td>6.00000</td>\n",
              "      <td>23.000000</td>\n",
              "      <td>NaN</td>\n",
              "    </tr>\n",
              "  </tbody>\n",
              "</table>\n",
              "</div>"
            ],
            "text/plain": [
              "       Tipo   Laranja  ...  Temperatura ambiente °C  Unnamed: 11\n",
              "count   80.0  80.0000  ...                60.000000          0.0\n",
              "mean     1.0  40.5000  ...                21.533333          NaN\n",
              "std      0.0  23.2379  ...                 1.371213          NaN\n",
              "min      1.0   1.0000  ...                19.000000          NaN\n",
              "25%      1.0  20.7500  ...                21.000000          NaN\n",
              "50%      1.0  40.5000  ...                21.000000          NaN\n",
              "75%      1.0  60.2500  ...                23.000000          NaN\n",
              "max      1.0  80.0000  ...                23.000000          NaN\n",
              "\n",
              "[8 rows x 12 columns]"
            ]
          },
          "metadata": {
            "tags": []
          },
          "execution_count": 5
        }
      ]
    },
    {
      "cell_type": "code",
      "metadata": {
        "colab": {
          "base_uri": "https://localhost:8080/"
        },
        "id": "2AeKQKMKzEHN",
        "outputId": "03d18de7-17e1-4596-e177-7df44bbe879d"
      },
      "source": [
        "Brix = np.array(df['Brix suco'])\n",
        "Y = []\n",
        "for xx in Brix:\n",
        "  if(xx < 9.000000):\n",
        "    Y.append(0)\n",
        "  elif(xx < 9.400000):\n",
        "    Y.append(1)\n",
        "  else:\n",
        "    Y.append(2)\n",
        "\n",
        "print(Y)"
      ],
      "execution_count": 6,
      "outputs": [
        {
          "output_type": "stream",
          "text": [
            "[2, 2, 2, 2, 2, 1, 0, 0, 2, 0, 2, 1, 1, 2, 2, 1, 1, 0, 2, 2, 2, 1, 2, 2, 2, 2, 0, 1, 1, 1, 1, 1, 0, 2, 2, 2, 2, 2, 2, 1, 0, 2, 1, 0, 2, 2, 1, 1, 0, 0, 2, 2, 2, 2, 2, 2, 2, 2, 1, 1, 2, 2, 2, 2, 2, 2, 2, 2, 2, 2, 2, 2, 2, 2, 2, 2, 2, 2, 2, 2]\n"
          ],
          "name": "stdout"
        }
      ]
    },
    {
      "cell_type": "code",
      "metadata": {
        "id": "GGjyaL990IJf"
      },
      "source": [
        "df['Brix_Cat']=Y"
      ],
      "execution_count": 7,
      "outputs": []
    },
    {
      "cell_type": "code",
      "metadata": {
        "colab": {
          "base_uri": "https://localhost:8080/",
          "height": 504
        },
        "id": "I0ObFvTc0RAd",
        "outputId": "28f76651-ee06-4a99-85ea-6ce5aa360e70"
      },
      "source": [
        "df"
      ],
      "execution_count": 8,
      "outputs": [
        {
          "output_type": "execute_result",
          "data": {
            "text/html": [
              "<div>\n",
              "<style scoped>\n",
              "    .dataframe tbody tr th:only-of-type {\n",
              "        vertical-align: middle;\n",
              "    }\n",
              "\n",
              "    .dataframe tbody tr th {\n",
              "        vertical-align: top;\n",
              "    }\n",
              "\n",
              "    .dataframe thead th {\n",
              "        text-align: right;\n",
              "    }\n",
              "</style>\n",
              "<table border=\"1\" class=\"dataframe\">\n",
              "  <thead>\n",
              "    <tr style=\"text-align: right;\">\n",
              "      <th></th>\n",
              "      <th>Tipo</th>\n",
              "      <th>Laranja</th>\n",
              "      <th>Massa (g)</th>\n",
              "      <th>Volume de suco (mL)</th>\n",
              "      <th>Ph do suco</th>\n",
              "      <th>Temperatura suco °C</th>\n",
              "      <th>Brix suco</th>\n",
              "      <th>comprimento (cm)</th>\n",
              "      <th>largura (cm)</th>\n",
              "      <th>Furo</th>\n",
              "      <th>Temperatura ambiente °C</th>\n",
              "      <th>Unnamed: 11</th>\n",
              "      <th>OBSERVAÇÕES</th>\n",
              "      <th>Unnamed: 13</th>\n",
              "      <th>Brix_Cat</th>\n",
              "    </tr>\n",
              "  </thead>\n",
              "  <tbody>\n",
              "    <tr>\n",
              "      <th>0</th>\n",
              "      <td>1</td>\n",
              "      <td>1</td>\n",
              "      <td>112.0</td>\n",
              "      <td>46.0</td>\n",
              "      <td>3.90</td>\n",
              "      <td>22.6</td>\n",
              "      <td>11.4</td>\n",
              "      <td>5.74</td>\n",
              "      <td>5.96</td>\n",
              "      <td>3.0</td>\n",
              "      <td>23.0</td>\n",
              "      <td>NaN</td>\n",
              "      <td>Tipo</td>\n",
              "      <td>NaN</td>\n",
              "      <td>2</td>\n",
              "    </tr>\n",
              "    <tr>\n",
              "      <th>1</th>\n",
              "      <td>1</td>\n",
              "      <td>2</td>\n",
              "      <td>173.0</td>\n",
              "      <td>84.0</td>\n",
              "      <td>3.88</td>\n",
              "      <td>22.1</td>\n",
              "      <td>10.2</td>\n",
              "      <td>6.67</td>\n",
              "      <td>6.88</td>\n",
              "      <td>5.0</td>\n",
              "      <td>23.0</td>\n",
              "      <td>NaN</td>\n",
              "      <td>1</td>\n",
              "      <td>Pera</td>\n",
              "      <td>2</td>\n",
              "    </tr>\n",
              "    <tr>\n",
              "      <th>2</th>\n",
              "      <td>1</td>\n",
              "      <td>3</td>\n",
              "      <td>106.0</td>\n",
              "      <td>50.0</td>\n",
              "      <td>4.16</td>\n",
              "      <td>22.4</td>\n",
              "      <td>10.1</td>\n",
              "      <td>6.04</td>\n",
              "      <td>5.71</td>\n",
              "      <td>2.0</td>\n",
              "      <td>23.0</td>\n",
              "      <td>NaN</td>\n",
              "      <td>NaN</td>\n",
              "      <td>NaN</td>\n",
              "      <td>2</td>\n",
              "    </tr>\n",
              "    <tr>\n",
              "      <th>3</th>\n",
              "      <td>1</td>\n",
              "      <td>4</td>\n",
              "      <td>167.0</td>\n",
              "      <td>90.0</td>\n",
              "      <td>4.02</td>\n",
              "      <td>22.5</td>\n",
              "      <td>11.1</td>\n",
              "      <td>6.71</td>\n",
              "      <td>6.67</td>\n",
              "      <td>4.0</td>\n",
              "      <td>23.0</td>\n",
              "      <td>NaN</td>\n",
              "      <td>Furo</td>\n",
              "      <td>Diâmetro (cm)</td>\n",
              "      <td>2</td>\n",
              "    </tr>\n",
              "    <tr>\n",
              "      <th>4</th>\n",
              "      <td>1</td>\n",
              "      <td>5</td>\n",
              "      <td>94.0</td>\n",
              "      <td>52.0</td>\n",
              "      <td>4.04</td>\n",
              "      <td>22.7</td>\n",
              "      <td>11.4</td>\n",
              "      <td>5.52</td>\n",
              "      <td>5.56</td>\n",
              "      <td>2.0</td>\n",
              "      <td>23.0</td>\n",
              "      <td>NaN</td>\n",
              "      <td>1</td>\n",
              "      <td>5.5</td>\n",
              "      <td>2</td>\n",
              "    </tr>\n",
              "    <tr>\n",
              "      <th>...</th>\n",
              "      <td>...</td>\n",
              "      <td>...</td>\n",
              "      <td>...</td>\n",
              "      <td>...</td>\n",
              "      <td>...</td>\n",
              "      <td>...</td>\n",
              "      <td>...</td>\n",
              "      <td>...</td>\n",
              "      <td>...</td>\n",
              "      <td>...</td>\n",
              "      <td>...</td>\n",
              "      <td>...</td>\n",
              "      <td>...</td>\n",
              "      <td>...</td>\n",
              "      <td>...</td>\n",
              "    </tr>\n",
              "    <tr>\n",
              "      <th>75</th>\n",
              "      <td>1</td>\n",
              "      <td>76</td>\n",
              "      <td>NaN</td>\n",
              "      <td>NaN</td>\n",
              "      <td>NaN</td>\n",
              "      <td>NaN</td>\n",
              "      <td>NaN</td>\n",
              "      <td>NaN</td>\n",
              "      <td>NaN</td>\n",
              "      <td>NaN</td>\n",
              "      <td>NaN</td>\n",
              "      <td>NaN</td>\n",
              "      <td>NaN</td>\n",
              "      <td>NaN</td>\n",
              "      <td>2</td>\n",
              "    </tr>\n",
              "    <tr>\n",
              "      <th>76</th>\n",
              "      <td>1</td>\n",
              "      <td>77</td>\n",
              "      <td>NaN</td>\n",
              "      <td>NaN</td>\n",
              "      <td>NaN</td>\n",
              "      <td>NaN</td>\n",
              "      <td>NaN</td>\n",
              "      <td>NaN</td>\n",
              "      <td>NaN</td>\n",
              "      <td>NaN</td>\n",
              "      <td>NaN</td>\n",
              "      <td>NaN</td>\n",
              "      <td>NaN</td>\n",
              "      <td>NaN</td>\n",
              "      <td>2</td>\n",
              "    </tr>\n",
              "    <tr>\n",
              "      <th>77</th>\n",
              "      <td>1</td>\n",
              "      <td>78</td>\n",
              "      <td>NaN</td>\n",
              "      <td>NaN</td>\n",
              "      <td>NaN</td>\n",
              "      <td>NaN</td>\n",
              "      <td>NaN</td>\n",
              "      <td>NaN</td>\n",
              "      <td>NaN</td>\n",
              "      <td>NaN</td>\n",
              "      <td>NaN</td>\n",
              "      <td>NaN</td>\n",
              "      <td>NaN</td>\n",
              "      <td>NaN</td>\n",
              "      <td>2</td>\n",
              "    </tr>\n",
              "    <tr>\n",
              "      <th>78</th>\n",
              "      <td>1</td>\n",
              "      <td>79</td>\n",
              "      <td>NaN</td>\n",
              "      <td>NaN</td>\n",
              "      <td>NaN</td>\n",
              "      <td>NaN</td>\n",
              "      <td>NaN</td>\n",
              "      <td>NaN</td>\n",
              "      <td>NaN</td>\n",
              "      <td>NaN</td>\n",
              "      <td>NaN</td>\n",
              "      <td>NaN</td>\n",
              "      <td>NaN</td>\n",
              "      <td>NaN</td>\n",
              "      <td>2</td>\n",
              "    </tr>\n",
              "    <tr>\n",
              "      <th>79</th>\n",
              "      <td>1</td>\n",
              "      <td>80</td>\n",
              "      <td>NaN</td>\n",
              "      <td>NaN</td>\n",
              "      <td>NaN</td>\n",
              "      <td>NaN</td>\n",
              "      <td>NaN</td>\n",
              "      <td>NaN</td>\n",
              "      <td>NaN</td>\n",
              "      <td>NaN</td>\n",
              "      <td>NaN</td>\n",
              "      <td>NaN</td>\n",
              "      <td>NaN</td>\n",
              "      <td>NaN</td>\n",
              "      <td>2</td>\n",
              "    </tr>\n",
              "  </tbody>\n",
              "</table>\n",
              "<p>80 rows × 15 columns</p>\n",
              "</div>"
            ],
            "text/plain": [
              "    Tipo   Laranja  Massa (g)  ...  OBSERVAÇÕES    Unnamed: 13  Brix_Cat\n",
              "0       1        1      112.0  ...         Tipo            NaN         2\n",
              "1       1        2      173.0  ...            1           Pera         2\n",
              "2       1        3      106.0  ...          NaN            NaN         2\n",
              "3       1        4      167.0  ...         Furo  Diâmetro (cm)         2\n",
              "4       1        5       94.0  ...            1            5.5         2\n",
              "..    ...      ...        ...  ...          ...            ...       ...\n",
              "75      1       76        NaN  ...          NaN            NaN         2\n",
              "76      1       77        NaN  ...          NaN            NaN         2\n",
              "77      1       78        NaN  ...          NaN            NaN         2\n",
              "78      1       79        NaN  ...          NaN            NaN         2\n",
              "79      1       80        NaN  ...          NaN            NaN         2\n",
              "\n",
              "[80 rows x 15 columns]"
            ]
          },
          "metadata": {
            "tags": []
          },
          "execution_count": 8
        }
      ]
    },
    {
      "cell_type": "code",
      "metadata": {
        "colab": {
          "base_uri": "https://localhost:8080/"
        },
        "id": "12KpCP6Q0kJ_",
        "outputId": "10dec65b-6d51-459f-a84e-b1e31422bb1c"
      },
      "source": [
        "pH = np.array(df['Ph do suco'])\n",
        "Y = []\n",
        "for xx in pH:\n",
        "  if(xx < 3.932500):\n",
        "    Y.append(0)\n",
        "  elif(xx < 4.040000):\n",
        "    Y.append(1)\n",
        "  else:\n",
        "    Y.append(2)\n",
        "\n",
        "print(Y)"
      ],
      "execution_count": 9,
      "outputs": [
        {
          "output_type": "stream",
          "text": [
            "[0, 0, 2, 1, 2, 0, 2, 2, 1, 1, 2, 1, 2, 2, 2, 2, 2, 2, 2, 2, 2, 1, 2, 2, 0, 0, 2, 1, 0, 2, 0, 1, 2, 0, 0, 1, 0, 0, 0, 0, 2, 0, 1, 1, 1, 2, 2, 2, 2, 2, 2, 0, 1, 2, 2, 2, 2, 2, 2, 2, 2, 2, 2, 2, 2, 2, 2, 2, 2, 2, 2, 2, 2, 2, 2, 2, 2, 2, 2, 2]\n"
          ],
          "name": "stdout"
        }
      ]
    },
    {
      "cell_type": "code",
      "metadata": {
        "id": "ZkxPRDMh1GM-"
      },
      "source": [
        "df['pH_Cat']=Y"
      ],
      "execution_count": 10,
      "outputs": []
    },
    {
      "cell_type": "code",
      "metadata": {
        "colab": {
          "base_uri": "https://localhost:8080/",
          "height": 17
        },
        "id": "xQ5vmvtH1QNy",
        "outputId": "cd4fb2a8-2fe2-40f3-9097-79ed48a0ae51"
      },
      "source": [
        "Arq = \"output.xlsx\"\n",
        "df.to_excel(Arq)\n",
        "files.download(Arq)"
      ],
      "execution_count": 11,
      "outputs": [
        {
          "output_type": "display_data",
          "data": {
            "application/javascript": [
              "\n",
              "    async function download(id, filename, size) {\n",
              "      if (!google.colab.kernel.accessAllowed) {\n",
              "        return;\n",
              "      }\n",
              "      const div = document.createElement('div');\n",
              "      const label = document.createElement('label');\n",
              "      label.textContent = `Downloading \"${filename}\": `;\n",
              "      div.appendChild(label);\n",
              "      const progress = document.createElement('progress');\n",
              "      progress.max = size;\n",
              "      div.appendChild(progress);\n",
              "      document.body.appendChild(div);\n",
              "\n",
              "      const buffers = [];\n",
              "      let downloaded = 0;\n",
              "\n",
              "      const channel = await google.colab.kernel.comms.open(id);\n",
              "      // Send a message to notify the kernel that we're ready.\n",
              "      channel.send({})\n",
              "\n",
              "      for await (const message of channel.messages) {\n",
              "        // Send a message to notify the kernel that we're ready.\n",
              "        channel.send({})\n",
              "        if (message.buffers) {\n",
              "          for (const buffer of message.buffers) {\n",
              "            buffers.push(buffer);\n",
              "            downloaded += buffer.byteLength;\n",
              "            progress.value = downloaded;\n",
              "          }\n",
              "        }\n",
              "      }\n",
              "      const blob = new Blob(buffers, {type: 'application/binary'});\n",
              "      const a = document.createElement('a');\n",
              "      a.href = window.URL.createObjectURL(blob);\n",
              "      a.download = filename;\n",
              "      div.appendChild(a);\n",
              "      a.click();\n",
              "      div.remove();\n",
              "    }\n",
              "  "
            ],
            "text/plain": [
              "<IPython.core.display.Javascript object>"
            ]
          },
          "metadata": {
            "tags": []
          }
        },
        {
          "output_type": "display_data",
          "data": {
            "application/javascript": [
              "download(\"download_edf81dd9-f695-4592-9c2c-e5c57a64aca9\", \"output.xlsx\", 10617)"
            ],
            "text/plain": [
              "<IPython.core.display.Javascript object>"
            ]
          },
          "metadata": {
            "tags": []
          }
        }
      ]
    }
  ]
}